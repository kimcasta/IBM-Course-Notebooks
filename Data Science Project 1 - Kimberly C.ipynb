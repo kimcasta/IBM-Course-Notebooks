{
    "nbformat_minor": 1, 
    "cells": [
        {
            "source": "# My Jupyter Notebook on IBM Data Science Experience", 
            "cell_type": "markdown", 
            "metadata": {
                "collapsed": true
            }
        }, 
        {
            "source": "**Kimberly Casta\u00f1eda Coronado**    \nData Scientist and Storyteller", 
            "cell_type": "markdown", 
            "metadata": {}
        }, 
        {
            "source": "_Personally, I find fascinating the amount of data that there's available in our days and all the possibilities to create and understand our wolrd better with it. I think that in a wolrd where very often ideas are just reproduced/copied, data science allows the space and capabilities to create._", 
            "cell_type": "markdown", 
            "metadata": {}
        }, 
        {
            "source": "### The following cell is adding 10 to the product of 5 and 2", 
            "cell_type": "markdown", 
            "metadata": {}
        }, 
        {
            "execution_count": 3, 
            "cell_type": "code", 
            "metadata": {
                "scrolled": true
            }, 
            "outputs": [
                {
                    "execution_count": 3, 
                    "metadata": {}, 
                    "data": {
                        "text/plain": "20"
                    }, 
                    "output_type": "execute_result"
                }
            ], 
            "source": "10+(5*2)"
        }, 
        {
            "source": "---\n\n<center> <h1> <span style=\"color:darkturquoise\"> About Our Planet </span> </h1> </center>\n\nIn a completely different note, I recently moved to Playa del Carmen, a beautiful beach town in the Mexican part of the Caribbean. Lately, we've had lots of problems with Sargassum which has been killing numerous species and stealing the beauty of the sea. Here's the before/after:\n\n#### Before:\n![alt text](http://rh-destinations.com/es/wp-content/uploads/sites/6/2014/04/Playadelcarmen_RoyalHoliday.jpg \"Before\")     \n\n#### After:\n![alt text](https://www.lapalabradelcaribe.com/wp-content/uploads/2018/02/1-2.jpg \"After\")   \n\nThis is only one of the many consequences of how we've been treating our planet.   \n    \n_If you're interested in contributing to the solution of these problems, [here](https://www.wwf.org.uk/thingsyoucando) you can find how you can help in your day to day life._\n\n<center> <h3> <span style=\"color:darkturquoise\"> Together we can make the difference! </span> <center>      \n        \n\n    \n![alt text](https://www.askideas.com/wp-content/uploads/2019/03/happy-Earth-Day-clipart.png \"A better world is possible.\")", 
            "cell_type": "markdown", 
            "metadata": {}
        }
    ], 
    "metadata": {
        "kernelspec": {
            "display_name": "Python 3.6 with Spark", 
            "name": "python36", 
            "language": "python3"
        }, 
        "language_info": {
            "mimetype": "text/x-python", 
            "nbconvert_exporter": "python", 
            "version": "3.6.8", 
            "name": "python", 
            "file_extension": ".py", 
            "pygments_lexer": "ipython3", 
            "codemirror_mode": {
                "version": 3, 
                "name": "ipython"
            }
        }
    }, 
    "nbformat": 4
}